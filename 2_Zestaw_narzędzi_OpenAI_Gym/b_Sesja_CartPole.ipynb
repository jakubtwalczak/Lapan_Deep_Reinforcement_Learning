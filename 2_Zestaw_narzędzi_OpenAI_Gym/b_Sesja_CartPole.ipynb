{
  "nbformat": 4,
  "nbformat_minor": 0,
  "metadata": {
    "colab": {
      "provenance": [],
      "gpuType": "T4"
    },
    "kernelspec": {
      "name": "python3",
      "display_name": "Python 3"
    },
    "language_info": {
      "name": "python"
    },
    "accelerator": "GPU"
  },
  "cells": [
    {
      "cell_type": "code",
      "execution_count": 1,
      "metadata": {
        "id": "AEyxZhy2br-p"
      },
      "outputs": [],
      "source": [
        "import gymnasium as gym\n",
        "e = gym.make('CartPole-v1') # utworzenie środowiska CartPole\n",
        "# w środowisku manipuluje się platformą za pomocą opadającego drążka\n",
        "# zadaniem jest równoważenie drążka tak, by nie opadł"
      ]
    },
    {
      "cell_type": "code",
      "source": [
        "obs = e.reset() # reset środowiska - nowo utworzone środowisko zawsze trzeba zresetować\n",
        "obs"
      ],
      "metadata": {
        "colab": {
          "base_uri": "https://localhost:8080/"
        },
        "id": "yCIlAOv7bxar",
        "outputId": "0fdd032f-ca83-4092-e741-251caa82e32c"
      },
      "execution_count": 2,
      "outputs": [
        {
          "output_type": "execute_result",
          "data": {
            "text/plain": [
              "(array([ 0.02493091,  0.01910026, -0.02504127,  0.00384323], dtype=float32),\n",
              " {})"
            ]
          },
          "metadata": {},
          "execution_count": 2
        }
      ]
    },
    {
      "cell_type": "code",
      "source": [
        "e.action_space # akcje zawsze wynoszą 0 lub 1\n",
        "# odpowiednio przesunięcie platformy w lewo lub prawo"
      ],
      "metadata": {
        "colab": {
          "base_uri": "https://localhost:8080/"
        },
        "id": "QeYuumWycD6E",
        "outputId": "a626709e-3a03-4db1-a74a-aed0df168ea1"
      },
      "execution_count": 3,
      "outputs": [
        {
          "output_type": "execute_result",
          "data": {
            "text/plain": [
              "Discrete(2)"
            ]
          },
          "metadata": {},
          "execution_count": 3
        }
      ]
    },
    {
      "cell_type": "code",
      "source": [
        "e.observation_space # pierwsza obserwacja"
      ],
      "metadata": {
        "colab": {
          "base_uri": "https://localhost:8080/"
        },
        "id": "hIevOao-cQaq",
        "outputId": "0041fb8f-8663-404b-f127-b4466d640628"
      },
      "execution_count": 4,
      "outputs": [
        {
          "output_type": "execute_result",
          "data": {
            "text/plain": [
              "Box([-4.8               -inf -0.41887903        -inf], [4.8               inf 0.41887903        inf], (4,), float32)"
            ]
          },
          "metadata": {},
          "execution_count": 4
        }
      ]
    },
    {
      "cell_type": "code",
      "source": [
        "e.step(0) # wynik kroku 0 - przesunięcie w lewo - odpowiednio:\n",
        "# 1. Obserwacja - 4 liczby - współrzędna x środka masy drążka, jego prędkość, kąt wzgl. platformy i i prędkość kątowa\n",
        "# 2. Nagroda - w wysokości 1,0\n",
        "# 3. Flaga terminated o wartości False - oznacza, że epizod się nie zakończył\n",
        "# 4. Flaga truncated o wartości False - oznacza, że epizod nie zakończył się z powodu osiągnięcia limitu kroków\n",
        "# 5. Dodatkowe informacje o środowisku"
      ],
      "metadata": {
        "colab": {
          "base_uri": "https://localhost:8080/"
        },
        "id": "h5EpjGCNcRge",
        "outputId": "6d714bc7-b5fc-4a0c-a65b-56b8d9d22cbf"
      },
      "execution_count": 5,
      "outputs": [
        {
          "output_type": "execute_result",
          "data": {
            "text/plain": [
              "(array([ 0.02531291, -0.17565379, -0.02496441,  0.28852135], dtype=float32),\n",
              " 1.0,\n",
              " False,\n",
              " False,\n",
              " {})"
            ]
          },
          "metadata": {},
          "execution_count": 5
        }
      ]
    },
    {
      "cell_type": "code",
      "source": [
        "e.action_space.sample() # losowa próbka z przestrzeni akcji - 2 możliwe (0 lub 1)"
      ],
      "metadata": {
        "colab": {
          "base_uri": "https://localhost:8080/"
        },
        "id": "kGbwXfLycW1q",
        "outputId": "9115fff5-f25a-4a52-99a6-3ff6477909cb"
      },
      "execution_count": 6,
      "outputs": [
        {
          "output_type": "execute_result",
          "data": {
            "text/plain": [
              "1"
            ]
          },
          "metadata": {},
          "execution_count": 6
        }
      ]
    },
    {
      "cell_type": "code",
      "source": [
        "e.observation_space.sample() # wektor czterech losowych liczb z obserwacji"
      ],
      "metadata": {
        "colab": {
          "base_uri": "https://localhost:8080/"
        },
        "id": "AyDpehRdcoMf",
        "outputId": "2acd5b81-75a8-4f5d-c7d9-bd7cf2dc5455"
      },
      "execution_count": 7,
      "outputs": [
        {
          "output_type": "execute_result",
          "data": {
            "text/plain": [
              "array([-4.2563405 , -0.05763033,  0.15903567,  0.39292198], dtype=float32)"
            ]
          },
          "metadata": {},
          "execution_count": 7
        }
      ]
    }
  ]
}