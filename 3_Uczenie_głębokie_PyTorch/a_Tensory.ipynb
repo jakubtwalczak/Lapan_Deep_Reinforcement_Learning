{
  "nbformat": 4,
  "nbformat_minor": 0,
  "metadata": {
    "colab": {
      "provenance": [],
      "gpuType": "T4"
    },
    "kernelspec": {
      "name": "python3",
      "display_name": "Python 3"
    },
    "language_info": {
      "name": "python"
    },
    "accelerator": "GPU"
  },
  "cells": [
    {
      "cell_type": "markdown",
      "source": [
        "# Metody tworzenia tensorów."
      ],
      "metadata": {
        "id": "yyZjm1-DokgU"
      }
    },
    {
      "cell_type": "code",
      "execution_count": 1,
      "metadata": {
        "colab": {
          "base_uri": "https://localhost:8080/"
        },
        "id": "l302gb82iavL",
        "outputId": "b7453423-3e9a-4275-e050-94668b1962cd"
      },
      "outputs": [
        {
          "output_type": "execute_result",
          "data": {
            "text/plain": [
              "tensor([[1.4923e-28, 4.4940e-41],\n",
              "        [1.4923e-28, 4.4940e-41],\n",
              "        [0.0000e+00, 0.0000e+00]])"
            ]
          },
          "metadata": {},
          "execution_count": 1
        }
      ],
      "source": [
        "# 1. wywołanie konstruktora wymaganego typu.\n",
        "\n",
        "import torch\n",
        "import numpy as np\n",
        "a = torch.FloatTensor(3, 2)\n",
        "a"
      ]
    },
    {
      "cell_type": "code",
      "source": [
        "a.zero_() # zerowanie pamięci tensora\n",
        "# jest to operacja lokalna - przetwarza zawartość tensora i zwraca zmodyfikowany obiekt\n",
        "# drugim możliwym typem operacji jest operacja funkcyjna - tworzy kopię tensora zawierającą modyfikację, nie zmieniając oryginalnego\n",
        "# operacje lokalne są bardziej wydajne: szybsze i zużywają mniej pamięci"
      ],
      "metadata": {
        "colab": {
          "base_uri": "https://localhost:8080/"
        },
        "id": "oMYj3njOosfS",
        "outputId": "0f4a769b-759a-4e11-f880-7e1677054994"
      },
      "execution_count": 2,
      "outputs": [
        {
          "output_type": "execute_result",
          "data": {
            "text/plain": [
              "tensor([[0., 0.],\n",
              "        [0., 0.],\n",
              "        [0., 0.]])"
            ]
          },
          "metadata": {},
          "execution_count": 2
        }
      ]
    },
    {
      "cell_type": "code",
      "source": [
        "# 2. konwersja tablicy NumPy lub listy Python - typ tensora określony zostaje na podstawie typu tablicy\n",
        "\n",
        "torch.FloatTensor([[1, 2, 3], [3, 2, 1]]) # lista list"
      ],
      "metadata": {
        "colab": {
          "base_uri": "https://localhost:8080/"
        },
        "id": "KuBrkZNepJrl",
        "outputId": "3b4d8749-e9b0-46bb-c3f9-bd8b2d897e9f"
      },
      "execution_count": 3,
      "outputs": [
        {
          "output_type": "execute_result",
          "data": {
            "text/plain": [
              "tensor([[1., 2., 3.],\n",
              "        [3., 2., 1.]])"
            ]
          },
          "metadata": {},
          "execution_count": 3
        }
      ]
    },
    {
      "cell_type": "code",
      "source": [
        "n = np.zeros(shape=(3, 2)) # tablica NumPy 3 x 2 wypełniona zerami\n",
        "n"
      ],
      "metadata": {
        "colab": {
          "base_uri": "https://localhost:8080/"
        },
        "id": "_SGCSu4Jp3lQ",
        "outputId": "717c9825-1325-45f0-8c39-f0a57d9b7d72"
      },
      "execution_count": 4,
      "outputs": [
        {
          "output_type": "execute_result",
          "data": {
            "text/plain": [
              "array([[0., 0.],\n",
              "       [0., 0.],\n",
              "       [0., 0.]])"
            ]
          },
          "metadata": {},
          "execution_count": 4
        }
      ]
    },
    {
      "cell_type": "code",
      "source": [
        "b = torch.tensor(n) # rzutowanie tablicy NumPy na tensor - za pomocą metody \"torch.tensor\"\n",
        "b"
      ],
      "metadata": {
        "colab": {
          "base_uri": "https://localhost:8080/"
        },
        "id": "xc_kebgAqOEZ",
        "outputId": "ebcb019c-2a31-4425-c750-5295bd79fa3f"
      },
      "execution_count": 5,
      "outputs": [
        {
          "output_type": "execute_result",
          "data": {
            "text/plain": [
              "tensor([[0., 0.],\n",
              "        [0., 0.],\n",
              "        [0., 0.]], dtype=torch.float64)"
            ]
          },
          "metadata": {},
          "execution_count": 5
        }
      ]
    },
    {
      "cell_type": "code",
      "source": [
        "# zmiana domyślnego typu danych float\n",
        "# domyślnie użyty jest float 64-bitowy\n",
        "# w uczeniu głębokim nie potrzebujemy podwójnej precyzji, więc powszechnie używa się typu 32-bitowego\n",
        "# możemy przekazać typ danych do utworzonej tablicy NumPy\n",
        "\n",
        "n = np.zeros(shape=(3, 2), dtype=np.float32)\n",
        "torch.tensor(n)"
      ],
      "metadata": {
        "colab": {
          "base_uri": "https://localhost:8080/"
        },
        "id": "QYi-mft6sXwm",
        "outputId": "fffb7b9b-0e12-492d-f889-4dfa37e406f6"
      },
      "execution_count": 6,
      "outputs": [
        {
          "output_type": "execute_result",
          "data": {
            "text/plain": [
              "tensor([[0., 0.],\n",
              "        [0., 0.],\n",
              "        [0., 0.]])"
            ]
          },
          "metadata": {},
          "execution_count": 6
        }
      ]
    },
    {
      "cell_type": "code",
      "source": [
        "# alternatywny sposób - przekazanie typu danych do tensora\n",
        "\n",
        "n = np.zeros(shape=(3, 2))\n",
        "torch.tensor(n, dtype=torch.float32)"
      ],
      "metadata": {
        "colab": {
          "base_uri": "https://localhost:8080/"
        },
        "id": "xhbvR8cnsXkf",
        "outputId": "ffcca4e3-daf4-431b-f572-ec447500c9e8"
      },
      "execution_count": 7,
      "outputs": [
        {
          "output_type": "execute_result",
          "data": {
            "text/plain": [
              "tensor([[0., 0.],\n",
              "        [0., 0.],\n",
              "        [0., 0.]])"
            ]
          },
          "metadata": {},
          "execution_count": 7
        }
      ]
    },
    {
      "cell_type": "code",
      "source": [
        "# 3. jawne utworzenie tensora przez bibliotekę PyTorch i wypełnienie go określonymi danymi\n",
        "\n",
        "torch.zeros(size=(3, 2)) # tensor wypełniony zerami o wymiarach 3 x 2"
      ],
      "metadata": {
        "colab": {
          "base_uri": "https://localhost:8080/"
        },
        "id": "01ZaEHI1qP5I",
        "outputId": "ed1a816e-b722-4943-9c83-9fcb4aab5ff7"
      },
      "execution_count": 8,
      "outputs": [
        {
          "output_type": "execute_result",
          "data": {
            "text/plain": [
              "tensor([[0., 0.],\n",
              "        [0., 0.],\n",
              "        [0., 0.]])"
            ]
          },
          "metadata": {},
          "execution_count": 8
        }
      ]
    },
    {
      "cell_type": "code",
      "source": [
        "torch.ones(size=(3, 2)) # tensor wypełniony jedynkami o wymiarach 3 x 2"
      ],
      "metadata": {
        "colab": {
          "base_uri": "https://localhost:8080/"
        },
        "id": "iRxB0PtJr48Y",
        "outputId": "7d434964-a407-4a58-cc78-33532ae0f4d3"
      },
      "execution_count": 9,
      "outputs": [
        {
          "output_type": "execute_result",
          "data": {
            "text/plain": [
              "tensor([[1., 1.],\n",
              "        [1., 1.],\n",
              "        [1., 1.]])"
            ]
          },
          "metadata": {},
          "execution_count": 9
        }
      ]
    },
    {
      "cell_type": "code",
      "source": [
        "torch.eye(n=3) # macierz jednostkowa o wymiarach 3 x 3"
      ],
      "metadata": {
        "colab": {
          "base_uri": "https://localhost:8080/"
        },
        "id": "lcjLQQHir6z2",
        "outputId": "5653b1cc-8023-4c2f-ad7b-5bad5741098f"
      },
      "execution_count": 10,
      "outputs": [
        {
          "output_type": "execute_result",
          "data": {
            "text/plain": [
              "tensor([[1., 0., 0.],\n",
              "        [0., 1., 0.],\n",
              "        [0., 0., 1.]])"
            ]
          },
          "metadata": {},
          "execution_count": 10
        }
      ]
    },
    {
      "cell_type": "code",
      "source": [
        "torch.tensor(data=(1, 2, 3)) # tensor z krotki"
      ],
      "metadata": {
        "colab": {
          "base_uri": "https://localhost:8080/"
        },
        "id": "c6GGEBWGr8zV",
        "outputId": "fec9265a-c442-41d9-ed43-f6f6b26c6320"
      },
      "execution_count": 11,
      "outputs": [
        {
          "output_type": "execute_result",
          "data": {
            "text/plain": [
              "tensor([1, 2, 3])"
            ]
          },
          "metadata": {},
          "execution_count": 11
        }
      ]
    },
    {
      "cell_type": "markdown",
      "source": [
        "# Tensory skalarne."
      ],
      "metadata": {
        "id": "ZsgGKryJttGy"
      }
    },
    {
      "cell_type": "code",
      "source": [
        "# tensory o zerowym wymiarze\n",
        "# mogą być wynikiem takich operacji, jak suma wszystkich wartości w wektorze\n",
        "\n",
        "a = torch.tensor([1, 2, 3])\n",
        "a"
      ],
      "metadata": {
        "colab": {
          "base_uri": "https://localhost:8080/"
        },
        "id": "uzXT3bSEsI52",
        "outputId": "49b9d56a-cca0-4ddb-945e-c65f1ede0017"
      },
      "execution_count": 12,
      "outputs": [
        {
          "output_type": "execute_result",
          "data": {
            "text/plain": [
              "tensor([1, 2, 3])"
            ]
          },
          "metadata": {},
          "execution_count": 12
        }
      ]
    },
    {
      "cell_type": "code",
      "source": [
        "s = a.sum() # suma wszystkich wartości tensora - wynikiem tensor skalarny\n",
        "s"
      ],
      "metadata": {
        "colab": {
          "base_uri": "https://localhost:8080/"
        },
        "id": "H9HCRPKbwFU1",
        "outputId": "317e5651-bf47-4da4-e8dc-50413d191d19"
      },
      "execution_count": 13,
      "outputs": [
        {
          "output_type": "execute_result",
          "data": {
            "text/plain": [
              "tensor(6)"
            ]
          },
          "metadata": {},
          "execution_count": 13
        }
      ]
    },
    {
      "cell_type": "code",
      "source": [
        "s.item() # dostęp do rzeczywistej wartości tensora"
      ],
      "metadata": {
        "colab": {
          "base_uri": "https://localhost:8080/"
        },
        "id": "QwRv5ENQwHJY",
        "outputId": "0be6f830-a644-43d0-ba99-72c5d7a34301"
      },
      "execution_count": 14,
      "outputs": [
        {
          "output_type": "execute_result",
          "data": {
            "text/plain": [
              "6"
            ]
          },
          "metadata": {},
          "execution_count": 14
        }
      ]
    },
    {
      "cell_type": "code",
      "source": [
        "torch.tensor(1) # jawne utworzenie tensora skalarnego"
      ],
      "metadata": {
        "colab": {
          "base_uri": "https://localhost:8080/"
        },
        "id": "jRwpdx1xwbs8",
        "outputId": "524f8724-c066-483a-fea9-376dfd5296c7"
      },
      "execution_count": 15,
      "outputs": [
        {
          "output_type": "execute_result",
          "data": {
            "text/plain": [
              "tensor(1)"
            ]
          },
          "metadata": {},
          "execution_count": 15
        }
      ]
    },
    {
      "cell_type": "markdown",
      "source": [
        "# Tensory GPU."
      ],
      "metadata": {
        "id": "Hot8lp5oz5MI"
      }
    },
    {
      "cell_type": "code",
      "source": [
        "a = torch.FloatTensor([2, 3]) # utworzenie tensora w procesorze\n",
        "a"
      ],
      "metadata": {
        "colab": {
          "base_uri": "https://localhost:8080/"
        },
        "id": "EE3aYkK0w3TW",
        "outputId": "5a501c40-8714-4ba1-820d-6256a7db554c"
      },
      "execution_count": 16,
      "outputs": [
        {
          "output_type": "execute_result",
          "data": {
            "text/plain": [
              "tensor([2., 3.])"
            ]
          },
          "metadata": {},
          "execution_count": 16
        }
      ]
    },
    {
      "cell_type": "code",
      "source": [
        "ca = a.to('cuda') # przeniesienie tensora do karty graficznej\n",
        "ca"
      ],
      "metadata": {
        "colab": {
          "base_uri": "https://localhost:8080/"
        },
        "id": "75F5lJSU196O",
        "outputId": "bac4c813-c221-49bf-a44c-ef8a9c82a690"
      },
      "execution_count": 17,
      "outputs": [
        {
          "output_type": "execute_result",
          "data": {
            "text/plain": [
              "tensor([2., 3.], device='cuda:0')"
            ]
          },
          "metadata": {},
          "execution_count": 17
        }
      ]
    },
    {
      "cell_type": "markdown",
      "source": [
        "# Tensory a gradienty."
      ],
      "metadata": {
        "id": "s7VnPESk9S33"
      }
    },
    {
      "cell_type": "code",
      "source": [
        "# tensory posiadają atrybuty związane z gradientami:\n",
        "\n",
        "# \"grad\":\n",
        "# tensor o takim samym kształcie, jak oryginalny, zawierający wyznaczone gradienty\n",
        "\n",
        "# \"is_leaf\":\n",
        "# o wartości True w razie skonstruowania przez użytkownika\n",
        "# o wartości False w razie wygenerowania w wyniku transformacji funkcji\n",
        "\n",
        "# \"requires_grad\":\n",
        "# wartość równa True, jeżeli tensor wymaga obliczenia gradientów\n",
        "# dziedziczony z węzłów liści, inicjalizowanych wartościami podczas konstruowania tensora\n",
        "# domyślnie wartość False - trzeba wyraźnie określić, czy dla tensora mają być wyznaczone gradienty\n",
        "\n",
        "v1 = torch.tensor([1.0, 1.0], requires_grad=True) # tensor wymaga wyznaczenia gradientu\n",
        "v2 = torch.tensor([2.0, 2.0]) # domyślnie \"requires_grad=False\"\n",
        "\n",
        "v_sum = v1 + v2 # dodajemy do siebie tensory - powstaje wektor [3.0, 3.0]\n",
        "v_res = (v_sum*2).sum() # podwajamy każdy element, po czym sumujemy elementy\n",
        "\n",
        "v_res"
      ],
      "metadata": {
        "colab": {
          "base_uri": "https://localhost:8080/"
        },
        "id": "wz0_vzqY2BCZ",
        "outputId": "a6c6dcd0-dd32-481c-d793-697135fc3ad7"
      },
      "execution_count": 18,
      "outputs": [
        {
          "output_type": "execute_result",
          "data": {
            "text/plain": [
              "tensor(12., grad_fn=<SumBackward0>)"
            ]
          },
          "metadata": {},
          "execution_count": 18
        }
      ]
    },
    {
      "cell_type": "code",
      "source": [
        "v1.is_leaf, v2.is_leaf # sprawdzamy, czy tensory są węzłami liści"
      ],
      "metadata": {
        "colab": {
          "base_uri": "https://localhost:8080/"
        },
        "id": "PdLtyy0Q_k2v",
        "outputId": "d10f656d-5603-4c13-bcce-b6dbdfca8e94"
      },
      "execution_count": 19,
      "outputs": [
        {
          "output_type": "execute_result",
          "data": {
            "text/plain": [
              "(True, True)"
            ]
          },
          "metadata": {},
          "execution_count": 19
        }
      ]
    },
    {
      "cell_type": "code",
      "source": [
        "v_sum.is_leaf, v_res.is_leaf"
      ],
      "metadata": {
        "colab": {
          "base_uri": "https://localhost:8080/"
        },
        "id": "iRgJGdgR_oyG",
        "outputId": "ea452ccd-826d-4814-d025-cd792570554a"
      },
      "execution_count": 20,
      "outputs": [
        {
          "output_type": "execute_result",
          "data": {
            "text/plain": [
              "(False, False)"
            ]
          },
          "metadata": {},
          "execution_count": 20
        }
      ]
    },
    {
      "cell_type": "code",
      "source": [
        "v1.requires_grad, v2.requires_grad, v_sum.requires_grad, v_res.requires_grad # sprawdzamy, czy tensory wymagają obliczenia gradientu"
      ],
      "metadata": {
        "colab": {
          "base_uri": "https://localhost:8080/"
        },
        "id": "T1bZ8fWI_say",
        "outputId": "9d8e076e-b816-4ab1-80dc-4a488d67f620"
      },
      "execution_count": 21,
      "outputs": [
        {
          "output_type": "execute_result",
          "data": {
            "text/plain": [
              "(True, False, True, True)"
            ]
          },
          "metadata": {},
          "execution_count": 21
        }
      ]
    },
    {
      "cell_type": "code",
      "source": [
        "v_res.backward() # obliczenie pochodnej zmiennej v_res w odniesieniu do dowolnej zmiennej zawartej w grafie\n",
        "v1.grad # wyznaczone gradienty dla tensora v1"
      ],
      "metadata": {
        "colab": {
          "base_uri": "https://localhost:8080/"
        },
        "id": "rkCoT1e9_v4l",
        "outputId": "9c0a414e-5e3d-4625-83fa-120002a48dcd"
      },
      "execution_count": 22,
      "outputs": [
        {
          "output_type": "execute_result",
          "data": {
            "text/plain": [
              "tensor([2., 2.])"
            ]
          },
          "metadata": {},
          "execution_count": 22
        }
      ]
    },
    {
      "cell_type": "code",
      "source": [
        "v2.grad # dla tensora v2 brak gradientu, ze względu na domyślną wartość parametru"
      ],
      "metadata": {
        "id": "mbhQnqz3AdB8"
      },
      "execution_count": 23,
      "outputs": []
    }
  ]
}